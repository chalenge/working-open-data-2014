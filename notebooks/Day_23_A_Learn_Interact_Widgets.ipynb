{
 "metadata": {
  "name": "",
  "signature": "sha256:6eb65ed33752639f08181c2999af9c870f23baf94d918d14ae0a3a0ec659a4eb"
 },
 "nbformat": 3,
 "nbformat_minor": 0,
 "worksheets": [
  {
   "cells": [
    {
     "cell_type": "markdown",
     "metadata": {},
     "source": [
      "One of the main new features in IPython 2.0 is [interactive widgets](http://ipython.org/ipython-doc/2/whatsnew/version2.0.html#interactive-widgets).\n",
      "\n",
      "Some additional references:\n",
      "\n",
      "* [ipython/examples at master \u00b7 ipython/ipython](https://github.com/ipython/ipython/tree/master/examples), specifically [ipython/examples/Interactive Widgets at master \u00b7 ipython/ipython](https://github.com/ipython/ipython/tree/master/examples/Interactive%20Widgets)\n",
      "\n",
      "* Hear Fernando Perez talk about interact starting at [PyCon2014:  IPython in Depth]( https://www.youtube.com/watch?v=XFw1JVXKJss#1h36m43s).  Accompanying repo: [ipython/ipython-in-depth](https://github.com/ipython/ipython-in-depth)."
     ]
    },
    {
     "cell_type": "code",
     "collapsed": false,
     "input": [
      "# need to be running at least version 2 of IPython\n",
      "\n",
      "import IPython\n",
      "IPython.version_info"
     ],
     "language": "python",
     "metadata": {},
     "outputs": []
    },
    {
     "cell_type": "code",
     "collapsed": false,
     "input": [
      "from IPython.display import display, Image, HTML, clear_output"
     ],
     "language": "python",
     "metadata": {},
     "outputs": []
    },
    {
     "cell_type": "code",
     "collapsed": false,
     "input": [
      "from IPython.html import widgets"
     ],
     "language": "python",
     "metadata": {},
     "outputs": []
    },
    {
     "cell_type": "code",
     "collapsed": false,
     "input": [
      "# what's in widgets\n",
      "\n",
      "dir(widgets)"
     ],
     "language": "python",
     "metadata": {},
     "outputs": []
    },
    {
     "cell_type": "code",
     "collapsed": false,
     "input": [
      "import math\n",
      "\n",
      "def fac(x):\n",
      "    print math.factorial(x)"
     ],
     "language": "python",
     "metadata": {},
     "outputs": []
    },
    {
     "cell_type": "code",
     "collapsed": false,
     "input": [
      "# let's dispaly factorial of input x\n",
      "widgets.interact(fac,x=(0,1000,1))"
     ],
     "language": "python",
     "metadata": {},
     "outputs": []
    },
    {
     "cell_type": "code",
     "collapsed": false,
     "input": [
      "# how to set starting value of a widget?\n",
      "\n",
      "widgets.interact(fac,\n",
      "                 x=widgets.IntSliderWidget(min=0,max=1000,step=1,value=10))"
     ],
     "language": "python",
     "metadata": {},
     "outputs": []
    },
    {
     "cell_type": "code",
     "collapsed": false,
     "input": [
      "from jinja2 import Template\n",
      "import uuid\n",
      "\n",
      "def square(r,g,b,a):\n",
      "\n",
      "    html_template = \"\"\"\n",
      "    <style>\n",
      "\n",
      "    #{{div_id}} {\n",
      "        background-color: rgba({{r}},{{g}},{{b}},{{a}});\n",
      "        height:100px;\n",
      "        width:100px;\n",
      "    }\n",
      "\n",
      "    </style>\n",
      "\n",
      "    <div id=\"{{div_id}}\"/>\"\"\"\n",
      "    \n",
      "    div_id=\"i\" + str(uuid.uuid4())\n",
      "\n",
      "    html_src = Template(html_template).render(r=r, g=g, b=b, a=a, div_id=div_id)\n",
      "    display(HTML(html_src))\n",
      "        \n",
      "square(255,0,255,1)"
     ],
     "language": "python",
     "metadata": {},
     "outputs": []
    },
    {
     "cell_type": "code",
     "collapsed": false,
     "input": [
      "widgets.interact(square,\n",
      "                 r=widgets.IntSliderWidget(min=0,max=255,step=1,value=0),\n",
      "                 g=widgets.IntSliderWidget(min=0,max=255,step=1,value=0),\n",
      "                 b=widgets.IntSliderWidget(min=0,max=255,step=1,value=0),\n",
      "                 a=widgets.FloatSliderWidget(min=0,max=1,value=1)\n",
      "                )"
     ],
     "language": "python",
     "metadata": {},
     "outputs": []
    },
    {
     "cell_type": "code",
     "collapsed": false,
     "input": [
      "#hsla\n",
      "# https://en.wikipedia.org/wiki/HSL_and_HSV\n",
      "\n",
      "import colorsys\n",
      "\n",
      "def square_hsla(h,s,l,a):\n",
      "\n",
      "    html_template = \"\"\"\n",
      "    <style>\n",
      "\n",
      "    #{{div_id}} {\n",
      "        background-color:hsla({{h}},{{s}}%,{{l}}%,{{a}});\n",
      "        height:100px;\n",
      "        width:100px;\n",
      "    }\n",
      "\n",
      "    </style>\n",
      "\n",
      "    <div id=\"{{div_id}}\"/>\"\"\"\n",
      "    \n",
      "    div_id=\"i\" + str(uuid.uuid4())\n",
      "\n",
      "    html_src = Template(html_template).render(h=h, s=s, l=l, a=a, div_id=div_id)\n",
      "    \n",
      "    (r,g,b) = colorsys.hls_to_rgb(float(h)/360.0,float(l)/100.0,float(s)/100.0)\n",
      "    print (int(r*255+0.5), int(g*255+0.5), int(b*255+0.5))\n",
      "    \n",
      "    display(HTML(html_src))\n",
      "    \n",
      "square_hsla(120,100,50,0.3)"
     ],
     "language": "python",
     "metadata": {},
     "outputs": []
    },
    {
     "cell_type": "code",
     "collapsed": false,
     "input": [
      "widgets.interact(square_hsla,\n",
      "                 h=widgets.FloatSliderWidget(min=0,max=360,value=120),\n",
      "                 s=widgets.FloatSliderWidget(min=0,max=100,value=100),\n",
      "                 l=widgets.FloatSliderWidget(min=0,max=100,value=50),\n",
      "                 a=widgets.FloatSliderWidget(min=0,max=1,value=0.3)\n",
      "                )"
     ],
     "language": "python",
     "metadata": {},
     "outputs": []
    },
    {
     "cell_type": "heading",
     "level": 1,
     "metadata": {},
     "source": [
      "SVG example"
     ]
    },
    {
     "cell_type": "code",
     "collapsed": false,
     "input": [
      "%%html\n",
      "<svg height=\"100\">\n",
      "  <circle cx=\"50\" cy=\"50\" r=\"40\" stroke=\"black\" stroke-width=\"3\" fill=\"red\" />\n",
      "</svg>"
     ],
     "language": "python",
     "metadata": {},
     "outputs": []
    },
    {
     "cell_type": "code",
     "collapsed": false,
     "input": [
      "def circle(r=40):\n",
      "    \n",
      "    cx = int(1.25*r)\n",
      "    cy = cx\n",
      "    height = 2*cx\n",
      "    \n",
      "    html = \"\"\"<svg height=\"{height}\">\n",
      "  <circle cx=\"{cx}\" cy=\"{cy}\" r=\"{r}\" stroke=\"black\" stroke-width=\"3\" fill=\"red\" />\n",
      "</svg>\n",
      "\"\"\".format(height=height, cx=cx, cy=cy, r=r)\n",
      "    display(HTML(html))\n"
     ],
     "language": "python",
     "metadata": {},
     "outputs": []
    },
    {
     "cell_type": "code",
     "collapsed": false,
     "input": [
      "circle()"
     ],
     "language": "python",
     "metadata": {},
     "outputs": []
    },
    {
     "cell_type": "code",
     "collapsed": false,
     "input": [
      "widgets.interact(circle, r=(0,500,5))"
     ],
     "language": "python",
     "metadata": {},
     "outputs": []
    },
    {
     "cell_type": "heading",
     "level": 1,
     "metadata": {},
     "source": [
      "Animating a float slider widget"
     ]
    },
    {
     "cell_type": "code",
     "collapsed": false,
     "input": [
      "w = widgets.FloatSliderWidget()\n",
      "w.min = 0\n",
      "w.max  = 200\n",
      "w.value = 30"
     ],
     "language": "python",
     "metadata": {},
     "outputs": []
    },
    {
     "cell_type": "code",
     "collapsed": false,
     "input": [
      "w"
     ],
     "language": "python",
     "metadata": {},
     "outputs": []
    },
    {
     "cell_type": "code",
     "collapsed": false,
     "input": [
      "w.value = 50"
     ],
     "language": "python",
     "metadata": {},
     "outputs": []
    },
    {
     "cell_type": "code",
     "collapsed": false,
     "input": [
      "import time\n",
      "\n",
      "for m in range(0,200,2):\n",
      "    w.value = m\n",
      "    time.sleep(0.1)"
     ],
     "language": "python",
     "metadata": {},
     "outputs": []
    },
    {
     "cell_type": "code",
     "collapsed": false,
     "input": [
      "w.keys"
     ],
     "language": "python",
     "metadata": {},
     "outputs": []
    },
    {
     "cell_type": "code",
     "collapsed": false,
     "input": [
      "w.close()"
     ],
     "language": "python",
     "metadata": {},
     "outputs": []
    },
    {
     "cell_type": "code",
     "collapsed": false,
     "input": [
      "m = widgets.interact(circle, r=(0,500,5))\n",
      "m"
     ],
     "language": "python",
     "metadata": {},
     "outputs": []
    },
    {
     "cell_type": "heading",
     "level": 1,
     "metadata": {},
     "source": [
      "Expanding and shrinking circle"
     ]
    },
    {
     "cell_type": "code",
     "collapsed": false,
     "input": [
      "for r in range (0,500,5):\n",
      "    m.widget._children[0].value = r\n",
      "    time.sleep(0.1)\n",
      "    \n",
      "for r in range (500,0,-5):\n",
      "    m.widget._children[0].value = r\n",
      "    time.sleep(0.1)"
     ],
     "language": "python",
     "metadata": {},
     "outputs": []
    },
    {
     "cell_type": "heading",
     "level": 1,
     "metadata": {},
     "source": [
      "Text widget and Pig Latin"
     ]
    },
    {
     "cell_type": "code",
     "collapsed": false,
     "input": [
      "#http://stackoverflow.com/a/20304752/7782\n",
      "\n",
      "def pigLatin(aString):\n",
      "    index = 0\n",
      "    stringLength = len(aString)\n",
      "    consonants = ''\n",
      "\n",
      "    # if aString starts with a vowel then just add 'way' to the end\n",
      "    if isVowel(aString[index]): \n",
      "        return aString + 'way' \n",
      "    else:\n",
      "    # the first letter is added to the list of consonants\n",
      "        consonants += aString[index]\n",
      "        index += 1\n",
      "\n",
      "        # if the next character of aString is a vowel, then from the index \n",
      "        # of the vowel onwards + any consonants + 'ay' is returned\n",
      "        while index < stringLength:\n",
      "            if isVowel(aString[index]):\n",
      "                return aString[index:stringLength] + consonants + 'ay'\n",
      "            else:\n",
      "                consonants += aString[index]\n",
      "                index += 1\n",
      "        return 'This word does contain any vowels.'\n",
      "\n",
      "def isVowel(character):\n",
      "    vowels = 'aeiou'\n",
      "    return character in vowels\n",
      "\n",
      "def echoPL(s):\n",
      "    print pigLatin(s)\n",
      "\n",
      "widgets.interact(echoPL, s=\"hello\")\n"
     ],
     "language": "python",
     "metadata": {},
     "outputs": []
    },
    {
     "cell_type": "code",
     "collapsed": false,
     "input": [],
     "language": "python",
     "metadata": {},
     "outputs": []
    }
   ],
   "metadata": {}
  }
 ]
}