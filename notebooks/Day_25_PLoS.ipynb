{
 "metadata": {
  "name": "",
  "signature": "sha256:fea629116aab93ec1fb489cec43c912e9eb78fea18710ae8fe72265c4b9cc8c9"
 },
 "nbformat": 3,
 "nbformat_minor": 0,
 "worksheets": [
  {
   "cells": [
    {
     "cell_type": "code",
     "collapsed": false,
     "input": [
      "import pandas as pd\n",
      "from pandas import DataFrame, Series, Index\n",
      "import numpy as np\n",
      "import matplotlib.pyplot as plt"
     ],
     "language": "python",
     "metadata": {},
     "outputs": [],
     "prompt_number": 1
    },
    {
     "cell_type": "markdown",
     "metadata": {},
     "source": [
      "Hint from http://api.plos.org/search-examples/plos_search.py about how to get only articles in search:\n",
      "\n",
      "    query['fq'] = quote('doc_type:full AND !article_type_facet:\"Issue Image\"') #search only for articles"
     ]
    },
    {
     "cell_type": "markdown",
     "metadata": {},
     "source": [
      "We need to be mindful of the API rate limit -- but PLoS has \n",
      "\n",
      "http://api.plos.org/solr/faq/#solr_api_recommended_usage:\n",
      "\n",
      "> Please limit your API requests to 7200 requests a day, 300 per hour, 10 per minute and allow 5 seconds for your search to return results. If you exceed this threshold, we will lock out your IP address. If you\u2019re a high-volume user of the PLOS Search API and need more API requests a day, please contact us at api@plos.org to discuss your options. We currently limit API users to no more than five concurrent connections from a single IP address.\n",
      "\n",
      "[...]\n",
      "\n",
      "> PLOS Search API requests: Please do not send requests that return more than 100 rows. That\u2019s a lot of data for our network to push all at once and it may take some time to return the result set. If you are getting back a result set that bigger than 100+ rows, then you likely need to change your query to return a smaller result set or set a limit on the records returned and page through the results."
     ]
    },
    {
     "cell_type": "code",
     "collapsed": false,
     "input": [
      "import settings\n",
      "import requests\n",
      "import urllib\n",
      "\n",
      "# http://api.plos.org/search-examples/plos_search.py\n",
      "#  query['fq'] = quote('doc_type:full AND !article_type_facet:\"Issue Image\"') \n",
      "#search only for articles\n",
      "\n",
      "def plos_search(q,start=0,rows=100,fl=None, extras=None):\n",
      "\n",
      "    BASE_URL = 'http://api.plos.org/search'\n",
      "    DEFAULT_FL = ('abstract','article_type','author_display',\n",
      "                  'eissn','id','journal','publication_date',\n",
      "                  'score','title_display')\n",
      "    \n",
      "    # fl indicates fields to return\n",
      "    # http://wiki.apache.org/solr/CommonQueryParameters#fl\n",
      "    \n",
      "    if fl is None:\n",
      "        fl_ = \",\".join(DEFAULT_FL)\n",
      "    else:\n",
      "        fl_ = \",\".join(fl)\n",
      "        \n",
      "    query = {'q':q,\n",
      "             'start':start,\n",
      "             'rows':rows,\n",
      "             'api_key':settings.PLOS_KEY,\n",
      "             'wt':'json',\n",
      "             'fl':fl_,\n",
      "             'fq': 'doc_type:full AND !article_type_facet:\"Issue Image\"'}\n",
      "    \n",
      "    if extras is not None:\n",
      "        query.update(extras)\n",
      "        \n",
      "    query_url = BASE_URL + \"?\" +urllib.urlencode(query)\n",
      "    \n",
      "    r = requests.get(query_url)\n",
      "    return r\n"
     ],
     "language": "python",
     "metadata": {},
     "outputs": [],
     "prompt_number": 5
    },
    {
     "cell_type": "code",
     "collapsed": false,
     "input": [
      "r = plos_search(q='subject:\"biotechnology\"')"
     ],
     "language": "python",
     "metadata": {},
     "outputs": [],
     "prompt_number": 6
    },
    {
     "cell_type": "code",
     "collapsed": false,
     "input": [
      "r.json()['response']['numFound']"
     ],
     "language": "python",
     "metadata": {},
     "outputs": [
      {
       "metadata": {},
       "output_type": "pyout",
       "prompt_number": 7,
       "text": [
        "3577"
       ]
      }
     ],
     "prompt_number": 7
    },
    {
     "cell_type": "code",
     "collapsed": false,
     "input": [
      "docs = r.json()['response']['docs']"
     ],
     "language": "python",
     "metadata": {},
     "outputs": [],
     "prompt_number": 8
    },
    {
     "cell_type": "code",
     "collapsed": false,
     "input": [
      "df = DataFrame(docs)\n",
      "df.head()"
     ],
     "language": "python",
     "metadata": {},
     "outputs": [
      {
       "html": [
        "<div style=\"max-height:1000px;max-width:1500px;overflow:auto;\">\n",
        "<table border=\"1\" class=\"dataframe\">\n",
        "  <thead>\n",
        "    <tr style=\"text-align: right;\">\n",
        "      <th></th>\n",
        "      <th>abstract</th>\n",
        "      <th>article_type</th>\n",
        "      <th>author_display</th>\n",
        "      <th>eissn</th>\n",
        "      <th>id</th>\n",
        "      <th>journal</th>\n",
        "      <th>publication_date</th>\n",
        "      <th>score</th>\n",
        "      <th>title_display</th>\n",
        "    </tr>\n",
        "  </thead>\n",
        "  <tbody>\n",
        "    <tr>\n",
        "      <th>0</th>\n",
        "      <td> [\\nThe objective of this paper is to assess th...</td>\n",
        "      <td> Research Article</td>\n",
        "      <td> [Latifah Amin, Md. Abul Kalam Azad, Mohd Hanaf...</td>\n",
        "      <td> 1932-6203</td>\n",
        "      <td> 10.1371/journal.pone.0086174</td>\n",
        "      <td> PLoS ONE</td>\n",
        "      <td> 2014-01-29T00:00:00Z</td>\n",
        "      <td> 1.212916</td>\n",
        "      <td> Determinants of Public Attitudes to Geneticall...</td>\n",
        "    </tr>\n",
        "    <tr>\n",
        "      <th>1</th>\n",
        "      <td> [\\n        Atrazine (ATZ) and S-metolachlor (S...</td>\n",
        "      <td> Research Article</td>\n",
        "      <td> [Cristina A. Viegas, Catarina Costa, Sandra An...</td>\n",
        "      <td> 1932-6203</td>\n",
        "      <td> 10.1371/journal.pone.0037140</td>\n",
        "      <td> PLoS ONE</td>\n",
        "      <td> 2012-05-15T00:00:00Z</td>\n",
        "      <td> 1.120443</td>\n",
        "      <td> Does &lt;i&gt;S&lt;/i&gt;-Metolachlor Affect the Performan...</td>\n",
        "    </tr>\n",
        "    <tr>\n",
        "      <th>2</th>\n",
        "      <td> [\\nDue to environmental persistence and biotox...</td>\n",
        "      <td> Research Article</td>\n",
        "      <td> [Yonggang Yang, Meiying Xu, Zhili He, Jun Guo,...</td>\n",
        "      <td> 1932-6203</td>\n",
        "      <td> 10.1371/journal.pone.0070686</td>\n",
        "      <td> PLoS ONE</td>\n",
        "      <td> 2013-08-05T00:00:00Z</td>\n",
        "      <td> 1.120443</td>\n",
        "      <td> Microbial Electricity Generation Enhances Deca...</td>\n",
        "    </tr>\n",
        "    <tr>\n",
        "      <th>3</th>\n",
        "      <td> [\\n        Intensive use of chlorpyrifos has r...</td>\n",
        "      <td> Research Article</td>\n",
        "      <td> [Shaohua Chen, Chenglan Liu, Chuyan Peng, Hong...</td>\n",
        "      <td> 1932-6203</td>\n",
        "      <td> 10.1371/journal.pone.0047205</td>\n",
        "      <td>      NaN</td>\n",
        "      <td> 2012-10-08T00:00:00Z</td>\n",
        "      <td> 1.120443</td>\n",
        "      <td> Biodegradation of Chlorpyrifos and Its Hydroly...</td>\n",
        "    </tr>\n",
        "    <tr>\n",
        "      <th>4</th>\n",
        "      <td> [Background: The complex characteristics and u...</td>\n",
        "      <td> Research Article</td>\n",
        "      <td> [Zhongbo Zhou, Fangang Meng, So-Ryong Chae, Gu...</td>\n",
        "      <td> 1932-6203</td>\n",
        "      <td> 10.1371/journal.pone.0042270</td>\n",
        "      <td>      NaN</td>\n",
        "      <td> 2012-08-09T00:00:00Z</td>\n",
        "      <td> 0.990341</td>\n",
        "      <td> Microbial Transformation of Biomacromolecules ...</td>\n",
        "    </tr>\n",
        "  </tbody>\n",
        "</table>\n",
        "<p>5 rows \u00d7 9 columns</p>\n",
        "</div>"
       ],
       "metadata": {},
       "output_type": "pyout",
       "prompt_number": 9,
       "text": [
        "                                            abstract      article_type  \\\n",
        "0  [\\nThe objective of this paper is to assess th...  Research Article   \n",
        "1  [\\n        Atrazine (ATZ) and S-metolachlor (S...  Research Article   \n",
        "2  [\\nDue to environmental persistence and biotox...  Research Article   \n",
        "3  [\\n        Intensive use of chlorpyrifos has r...  Research Article   \n",
        "4  [Background: The complex characteristics and u...  Research Article   \n",
        "\n",
        "                                      author_display      eissn  \\\n",
        "0  [Latifah Amin, Md. Abul Kalam Azad, Mohd Hanaf...  1932-6203   \n",
        "1  [Cristina A. Viegas, Catarina Costa, Sandra An...  1932-6203   \n",
        "2  [Yonggang Yang, Meiying Xu, Zhili He, Jun Guo,...  1932-6203   \n",
        "3  [Shaohua Chen, Chenglan Liu, Chuyan Peng, Hong...  1932-6203   \n",
        "4  [Zhongbo Zhou, Fangang Meng, So-Ryong Chae, Gu...  1932-6203   \n",
        "\n",
        "                             id   journal      publication_date     score  \\\n",
        "0  10.1371/journal.pone.0086174  PLoS ONE  2014-01-29T00:00:00Z  1.212916   \n",
        "1  10.1371/journal.pone.0037140  PLoS ONE  2012-05-15T00:00:00Z  1.120443   \n",
        "2  10.1371/journal.pone.0070686  PLoS ONE  2013-08-05T00:00:00Z  1.120443   \n",
        "3  10.1371/journal.pone.0047205       NaN  2012-10-08T00:00:00Z  1.120443   \n",
        "4  10.1371/journal.pone.0042270       NaN  2012-08-09T00:00:00Z  0.990341   \n",
        "\n",
        "                                       title_display  \n",
        "0  Determinants of Public Attitudes to Geneticall...  \n",
        "1  Does <i>S</i>-Metolachlor Affect the Performan...  \n",
        "2  Microbial Electricity Generation Enhances Deca...  \n",
        "3  Biodegradation of Chlorpyrifos and Its Hydroly...  \n",
        "4  Microbial Transformation of Biomacromolecules ...  \n",
        "\n",
        "[5 rows x 9 columns]"
       ]
      }
     ],
     "prompt_number": 9
    },
    {
     "cell_type": "markdown",
     "metadata": {},
     "source": [
      "What type of parameters in search?\n",
      "\n",
      "parameters: http://api.plos.org/solr/search-fields/\n",
      "\n",
      "Can try out: http://www.plosone.org/search/advanced?noSearchFlag=true&query=&filterJournals=PLoSONE\n",
      "\n",
      "How to ask for more metadata -- like subject areas?  \n",
      "http://www.plosone.org/search/advanced?unformattedQuery=subject%3A%22Body+mass+index%22 \n",
      "\n",
      "https://groups.google.com/forum/#!searchin/plos-api-developers/subject/plos-api-developers/BqECTQkvRTI/r9v6oCAAOPoJ"
     ]
    },
    {
     "cell_type": "code",
     "collapsed": false,
     "input": [
      "# get subjects of a given article\n",
      "# http://api.plos.org/search?q=id:%2210.1371/journal.pbio.0050082%22&fl=id,subject,subject_level_1&api_key=[YOUR_API_KEY]\n",
      "\n",
      "r = plos_search(q=\"10.1371/journal.pone.0039504\",\n",
      "            fl=('id','subject','subject_level'))"
     ],
     "language": "python",
     "metadata": {},
     "outputs": [],
     "prompt_number": 11
    },
    {
     "cell_type": "code",
     "collapsed": false,
     "input": [
      "r.json()"
     ],
     "language": "python",
     "metadata": {},
     "outputs": [
      {
       "metadata": {},
       "output_type": "pyout",
       "prompt_number": 12,
       "text": [
        "{u'response': {u'docs': [{u'id': u'10.1371/journal.pone.0039504',\n",
        "    u'subject': [u'/Medicine and health sciences/Physiology/Physiological parameters/Body weight/Body mass index',\n",
        "     u'/Biology and life sciences/Anatomy/Musculoskeletal system/Pelvis/Hip',\n",
        "     u'/Medicine and health sciences/Physiology/Physiological parameters',\n",
        "     u'/Biology and life sciences/Physiology/Physiological parameters/Body weight/Body mass index',\n",
        "     u'/Biology and life sciences/Physiology/Physiological parameters/Body weight/Obesity',\n",
        "     u'/Medicine and health sciences/Metabolic disorders/Diabetes mellitus',\n",
        "     u'/Medicine and health sciences/Anatomy/Musculoskeletal system/Pelvis/Hip',\n",
        "     u'/People and places/Demography/Death rates',\n",
        "     u'/Biology and life sciences/Physiology/Physiological parameters',\n",
        "     u'/Medicine and health sciences/Epidemiology/Ethnic epidemiology',\n",
        "     u'/Medicine and health sciences/Physiology/Physiological parameters/Body weight/Obesity',\n",
        "     u'/Biology and life sciences/Population biology/Population metrics/Death rates',\n",
        "     u'/Physical sciences/Mathematics/Statistics (mathematics)/Confidence intervals']}],\n",
        "  u'numFound': 1,\n",
        "  u'start': 0}}"
       ]
      }
     ],
     "prompt_number": 12
    },
    {
     "cell_type": "code",
     "collapsed": false,
     "input": [
      "# There is also a list of all the top-level subject areas and their article counts: \n",
      "# http://api.plos.org/search/?q=*:*&fq=doc_type:full&rows=0&facet.field=subject_facet&facet.mincount=1\n",
      "\n",
      "# this doesn't seem to work for me:\n",
      "# https://groups.google.com/forum/#!searchin/plos-api-developers/subject/plos-api-developers/BqECTQkvRTI/r9v6oCAAOPoJ\n",
      "\n",
      "r = plos_search(q=\"*.*\",\n",
      "                extras={'fq':'doc_type:full',\n",
      "                    'facet.field':'subject_facet',\n",
      "                    'facet.mincount':1\n",
      "                    })\n",
      "r"
     ],
     "language": "python",
     "metadata": {},
     "outputs": [
      {
       "metadata": {},
       "output_type": "pyout",
       "prompt_number": 13,
       "text": [
        "<Response [200]>"
       ]
      }
     ],
     "prompt_number": 13
    },
    {
     "cell_type": "code",
     "collapsed": false,
     "input": [
      "r.json()"
     ],
     "language": "python",
     "metadata": {},
     "outputs": [
      {
       "metadata": {},
       "output_type": "pyout",
       "prompt_number": 14,
       "text": [
        "{u'response': {u'docs': [], u'maxScore': 0.0, u'numFound': 0, u'start': 0}}"
       ]
      }
     ],
     "prompt_number": 14
    },
    {
     "cell_type": "markdown",
     "metadata": {},
     "source": [
      "for simplicity, try to limit to PLoS One to start with"
     ]
    },
    {
     "cell_type": "code",
     "collapsed": false,
     "input": [
      "# compute links back to journal, XML document"
     ],
     "language": "python",
     "metadata": {},
     "outputs": []
    },
    {
     "cell_type": "markdown",
     "metadata": {},
     "source": [
      "Example article:\n",
      "\n",
      "http://www.plosone.org/article/info%3Adoi%2F10.1371%2Fjournal.pone.0039504\n",
      "\n",
      "id: 10.1371/journal.pone.0039504\n",
      "XML: http://www.plosone.org/article/fetchObjectAttachment.action?uri=info%3Adoi%2F10.1371%2Fjournal.pone.0039504&representation=XML\n"
     ]
    },
    {
     "cell_type": "code",
     "collapsed": false,
     "input": [
      "# get all articles\n",
      "\n",
      "r = plos_search(q=\"*:*\")\n",
      "r"
     ],
     "language": "python",
     "metadata": {},
     "outputs": [
      {
       "metadata": {},
       "output_type": "pyout",
       "prompt_number": 16,
       "text": [
        "<Response [200]>"
       ]
      }
     ],
     "prompt_number": 16
    },
    {
     "cell_type": "code",
     "collapsed": false,
     "input": [
      "r.json()['response']['numFound']"
     ],
     "language": "python",
     "metadata": {},
     "outputs": [
      {
       "metadata": {},
       "output_type": "pyout",
       "prompt_number": 17,
       "text": [
        "118545"
       ]
      }
     ],
     "prompt_number": 17
    },
    {
     "cell_type": "code",
     "collapsed": false,
     "input": [],
     "language": "python",
     "metadata": {},
     "outputs": []
    }
   ],
   "metadata": {}
  }
 ]
}